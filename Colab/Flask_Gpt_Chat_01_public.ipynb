{
  "nbformat": 4,
  "nbformat_minor": 0,
  "metadata": {
    "colab": {
      "provenance": []
    },
    "kernelspec": {
      "name": "python3",
      "display_name": "Python 3"
    },
    "language_info": {
      "name": "python"
    }
  },
  "cells": [
    {
      "cell_type": "markdown",
      "source": [
        "# Приложение Flask для запроса ChatGPT\n",
        "\n",
        "Flask application for ChatGPT request\n",
        "\n",
        "\n",
        "\n",
        "Приглашаю в Телеграм общаться по это теме: https://t.me/AiExp01"
      ],
      "metadata": {
        "id": "w3zhqjRUXnwg"
      }
    },
    {
      "cell_type": "code",
      "source": [
        "!pip install pyngrok\n",
        "!pip install openai"
      ],
      "metadata": {
        "id": "gQY3QP0dD260"
      },
      "execution_count": null,
      "outputs": []
    },
    {
      "cell_type": "code",
      "source": [
        "from flask import Flask, request, json\n",
        "from werkzeug.utils import secure_filename\n",
        "from pyngrok import ngrok\n",
        "from google.colab import userdata\n",
        "from openai import OpenAI\n",
        "import os\n",
        "\n",
        "# Установка Ngrok_API_KEY\n",
        "Ngrok_API_KEY=userdata.get('Ngrok_API_KEY')\n",
        "ngrok.set_auth_token(Ngrok_API_KEY)\n",
        "\n",
        "# Установка OpenAI API key\n",
        "OpenAI_API_KEY=userdata.get('OpenAI_API_KEY')\n",
        "os.environ[\"OPENAI_API_KEY\"] = OpenAI_API_KEY\n",
        "\n",
        "# LL_MODEL = \"gpt-4-0613\"\n",
        "LL_MODEL = \"gpt-3.5-turbo\"\n",
        "print(f'LL_MODEL = {LL_MODEL}')\n",
        "client = OpenAI(\n",
        "    api_key=OpenAI_API_KEY\n",
        ")\n",
        "port_no = 5000\n",
        "app = Flask(__name__)\n",
        "\n",
        "public_url =  ngrok.connect(port_no).public_url\n",
        "print(f\"To acces the Gloable link please click {public_url}\")"
      ],
      "metadata": {
        "id": "lwyFhK5pJtBK"
      },
      "execution_count": null,
      "outputs": []
    },
    {
      "cell_type": "code",
      "source": [
        "# Функции для ChatGPT\n",
        "def get_answer_gpt(system_content, user_content, temp=0.8):\n",
        "    messages = [\n",
        "        {\"role\": \"system\", \"content\": system_content},\n",
        "        {\"role\": \"user\", \"content\": user_content}\n",
        "    ]\n",
        "    completion = client.chat.completions.create(\n",
        "        model=LL_MODEL,\n",
        "        messages=messages,\n",
        "        temperature=temp\n",
        "    )\n",
        "    return completion  # возвращает ответ\n",
        "\n",
        "def get_transcript(file_name, language=\"en\"):\n",
        "  print('get_transcript')\n",
        "  print(type(language), f'language={language}')\n",
        "  # https://platform.openai.com/docs/guides/speech-to-text/transcriptions\n",
        "  client = OpenAI(api_key=OpenAI_API_KEY)\n",
        "\n",
        "  audio_file= open(file_name, \"rb\")\n",
        "  transcript = client.audio.transcriptions.create(\n",
        "    model=\"whisper-1\",\n",
        "    language=language,\n",
        "    file=audio_file,\n",
        "    response_format=\"text\"\n",
        "  )\n",
        "  print (type(transcript),'\\n',transcript)\n",
        "  return transcript"
      ],
      "metadata": {
        "id": "wf1pIJchV2BG"
      },
      "execution_count": null,
      "outputs": []
    },
    {
      "cell_type": "code",
      "source": [
        "# Функции для Flask\n",
        "UPLOAD_FOLDER = '/content/sample_data'\n",
        "ALLOWED_EXTENSIONS = {'wav'}\n",
        "app.config['UPLOAD_FOLDER'] = UPLOAD_FOLDER\n",
        "\n",
        "def allowed_file(filename):\n",
        "    return '.' in filename and \\\n",
        "           filename.rsplit('.', 1)[1].lower() in ALLOWED_EXTENSIONS\n",
        "\n",
        "@app.route(\"/\")\n",
        "def home():\n",
        "    return f\"Running Flask on Google Colab!\"\n",
        "\n",
        "@app.route('/chat', methods=['POST'])\n",
        "def chat():\n",
        "    data = json.loads(request.data)\n",
        "    print(type(data), f'chat data={data}')\n",
        "    system_content = data['system_content']\n",
        "    user_content = data['user_content']\n",
        "    completion = get_answer_gpt(system_content, user_content)\n",
        "    answer = completion.choices[0].message.content\n",
        "    data['answer'] = answer\n",
        "    print(f'return data={data}')\n",
        "    return data\n",
        "\n",
        "\n",
        "@app.route('/transcript', methods=['POST'])\n",
        "# https://flask.palletsprojects.com/en/2.3.x/patterns/fileuploads/\n",
        "def transcript():\n",
        "    print(\"transcript\")\n",
        "\n",
        "    # check if the post request has the file part\n",
        "    if 'file' not in request.files:\n",
        "        flash('No file part')\n",
        "        return 'No file part'\n",
        "\n",
        "    file = request.files['file']\n",
        "    print(type(file))\n",
        "    args = request.args\n",
        "    print(type(args), f'args={args}')\n",
        "    language = request.args.get('language')\n",
        "    print(type(language), f'language={language}')\n",
        "\n",
        "    # If the user does not select a file, the browser submits an\n",
        "    # empty file without a filename.\n",
        "    if file.filename == '':\n",
        "        flash('No selected file')\n",
        "        return 'No file part'\n",
        "    if file and allowed_file(file.filename):\n",
        "        filename = secure_filename(file.filename)\n",
        "        file.save(os.path.join(app.config['UPLOAD_FOLDER'], filename))\n",
        "    my_file_1 = UPLOAD_FOLDER + \"/\"+ filename\n",
        "    print(f'my_file_1={my_file_1}')\n",
        "\n",
        "    transcript= get_transcript(my_file_1, language=language)\n",
        "\n",
        "    data = {\"transcript\": transcript}\n",
        "    print(f'return data={data}')\n",
        "    return data"
      ],
      "metadata": {
        "id": "x_aHj0gzP2gr"
      },
      "execution_count": null,
      "outputs": []
    },
    {
      "cell_type": "code",
      "source": [
        "app.run(port=port_no)"
      ],
      "metadata": {
        "id": "wFNJTcCrEMRq"
      },
      "execution_count": null,
      "outputs": []
    },
    {
      "cell_type": "markdown",
      "source": [
        "# Вопросы и пожелания сюда:\n",
        " https://t.me/AiExp01"
      ],
      "metadata": {
        "id": "6cEvCe2m8MMY"
      }
    }
  ]
}